{
 "cells": [
  {
   "cell_type": "markdown",
   "metadata": {},
   "source": [
    "# **Data Collection Notebook**"
   ]
  },
  {
   "cell_type": "markdown",
   "metadata": {},
   "source": [
    "## Objectives\n",
    "\n",
    "* Fetch data from Kaggle and save it as raw data.\n",
    "* Inspect the data and save it under outputs/datasets/collection\n",
    "\n",
    "## Inputs\n",
    "\n",
    "*   Kaggle JSON file - the authentication token.\n",
    "\n",
    "## Outputs\n",
    "\n",
    "* Generate Two Datasets: \n",
    "    1. ..outputs/datasets/collection/PredictiveMaintenanceTest.csv\n",
    "    2. ..outputs/datasets/collection/PredictiveMaintenanceTrain.csv\n",
    "\n",
    "## Additional Comments\n",
    "\n",
    "* Data is from a publicly accessible Kaggle repo [here](https://www.kaggle.com/datasets/prognosticshse/preventive-to-predicitve-maintenance).\n",
    "* For the purposes of the learning context of this project, we are hosting the data in a publicly accessible repo at [GitHub](https://github.com/roeszler/filter-maintenance-predictor). We would never push data to a public repository in the workplace for security exposure it represents.\n",
    "* The data from this source comes pre-divided into Test and Train data."
   ]
  }
 ],
 "metadata": {
  "kernelspec": {
   "display_name": "Python 3",
   "language": "python",
   "name": "python3"
  },
  "language_info": {
   "name": "python",
   "version": "3.8.12 (default, Nov 21 2022, 13:20:36) \n[GCC 9.4.0]"
  },
  "orig_nbformat": 4,
  "vscode": {
   "interpreter": {
    "hash": "8b8334dab9339717f727a1deaf837b322d7a41c20d15cc86be99a8e69ceec8ce"
   }
  }
 },
 "nbformat": 4,
 "nbformat_minor": 2
}
